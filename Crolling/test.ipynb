{
 "cells": [
  {
   "cell_type": "code",
   "execution_count": 2,
   "metadata": {},
   "outputs": [
    {
     "name": "stdout",
     "output_type": "stream",
     "text": [
      "{'address_name': '광주 동구 학동 1022', 'category_group_code': 'FD6', 'category_group_name': '음식점', 'category_name': '음식점 > 일식 > 돈까스,우동', 'distance': '22', 'id': '1401656305', 'phone': '062-223-4271', 'place_name': '수유리우동집 학동점', 'place_url': 'http://place.map.kakao.com/1401656305', 'road_address_name': '광주 동구 남문로753번길 20', 'x': '126.922970694359', 'y': '35.1361227114505'}\n",
      "수유리우동집 학동점 1401656305\n"
     ]
    }
   ],
   "source": [
    "import requests as req\n",
    "import json\n",
    "\n",
    "latitude = 35.1361642\n",
    "longitude = 126.9232147\n",
    "query = '수유리우동집'\n",
    "header = {'Authorization': 'KakaoAK 647742ba852c5d05653d9d6ca4666b70'}\n",
    "\n",
    "url = \"https://dapi.kakao.com/v2/local/search/keyword.json\"\n",
    "res = req.get(url, headers=header, params= {'page':1, \n",
    "                            'size':15,\n",
    "                            'sort':'accuracy',\n",
    "                            'category_group_code':'FD6',\n",
    "                            'radius':200,\n",
    "                            'y':latitude,\n",
    "                            'x':longitude,\n",
    "                            'query':query,\n",
    "                            })\n",
    "raw_json = json.loads(res.text)\n",
    "store_Dic = raw_json['documents'][0]\n",
    "print(store_Dic)\n",
    "print(store_Dic['place_name'], store_Dic['id'])\n"
   ]
  },
  {
   "cell_type": "code",
   "execution_count": 20,
   "metadata": {},
   "outputs": [
    {
     "name": "stdout",
     "output_type": "stream",
     "text": [
      "수유리우동집 학동점 1401656305\n"
     ]
    }
   ],
   "source": [
    "print(store_Dic['place_name'], store_Dic['id'])"
   ]
  },
  {
   "cell_type": "code",
   "execution_count": 16,
   "metadata": {},
   "outputs": [
    {
     "data": {
      "text/plain": [
       "[{'address_name': '광주 동구 학동 1022',\n",
       "  'category_group_code': 'FD6',\n",
       "  'category_group_name': '음식점',\n",
       "  'category_name': '음식점 > 일식 > 돈까스,우동',\n",
       "  'distance': '22',\n",
       "  'id': '1401656305',\n",
       "  'phone': '062-223-4271',\n",
       "  'place_name': '수유리우동집 학동점',\n",
       "  'place_url': 'http://place.map.kakao.com/1401656305',\n",
       "  'road_address_name': '광주 동구 남문로753번길 20',\n",
       "  'x': '126.922970694359',\n",
       "  'y': '35.1361227114505'}]"
      ]
     },
     "execution_count": 16,
     "metadata": {},
     "output_type": "execute_result"
    }
   ],
   "source": []
  }
 ],
 "metadata": {
  "kernelspec": {
   "display_name": "Python 3.10.5 64-bit",
   "language": "python",
   "name": "python3"
  },
  "language_info": {
   "codemirror_mode": {
    "name": "ipython",
    "version": 3
   },
   "file_extension": ".py",
   "mimetype": "text/x-python",
   "name": "python",
   "nbconvert_exporter": "python",
   "pygments_lexer": "ipython3",
   "version": "3.10.5"
  },
  "orig_nbformat": 4,
  "vscode": {
   "interpreter": {
    "hash": "d3e10ef16274dd72e574b8fa73b58450b957d8421a2901baded3cca26fcf5dda"
   }
  }
 },
 "nbformat": 4,
 "nbformat_minor": 2
}
